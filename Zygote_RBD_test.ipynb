{
 "cells": [
  {
   "cell_type": "code",
   "execution_count": 1,
   "id": "47db00fa",
   "metadata": {},
   "outputs": [],
   "source": [
    "using RigidBodyDynamics\n",
    "using LinearAlgebra\n",
    "using StaticArrays\n",
    "using RigidBodyDynamics.OdeIntegrators: step, process\n",
    "using RigidBodyDynamics.OdeIntegrators\n",
    "using Zygote;"
   ]
  },
  {
   "cell_type": "markdown",
   "id": "8bd62638",
   "metadata": {},
   "source": [
    "free floting object"
   ]
  },
  {
   "cell_type": "code",
   "execution_count": 2,
   "id": "1037254d",
   "metadata": {},
   "outputs": [],
   "source": [
    "function init_RigidBody()    \n",
    "    world_body = RigidBody{Float64}(\"world\");\n",
    "    rigid_body_mechanism = Mechanism(world_body; gravity = SVector(0, 0, -9.81));\n",
    "\n",
    "    # Body\n",
    "    frame = CartesianFrame3D(\"frame\"); # the reference frame in which the spatial inertia will be expressed\n",
    "    inertia = SpatialInertia( frame,\n",
    "                              moment = Matrix(0.01I, 3, 3), # moment of inertia,\n",
    "                              com = SVector(0, 0, 0), # center of mass location with respect to joint axis\n",
    "                              mass = 1.0);\n",
    "    body = RigidBody(inertia)\n",
    "\n",
    "    # The joint is used by the sim_callback! therefore it must be available globally.\n",
    "    global joint = Joint(\"joint\", QuaternionFloating{Float64}());\n",
    "    to_world = one(Transform3D, frame_before(joint), default_frame(world_body))\n",
    "    attach!(rigid_body_mechanism, world_body, body, joint, joint_pose = to_world);\n",
    "\n",
    "    mechanism_state = MechanismState(rigid_body_mechanism);\n",
    "\n",
    "\n",
    "    # Set the initial mechanism_state configuration\n",
    "    set_configuration!(mechanism_state, joint, [0.0, 0.0, 0.0, 0.0, 0.0, 0.0, 0.0]) # in World Frame\n",
    "    set_velocity!(mechanism_state, joint, [0.0, 0.0, 0.0, 0.0, 0.0, 0.0]) # In Body frame\n",
    "    \n",
    "    return mechanism_state, joint\n",
    "end;"
   ]
  },
  {
   "cell_type": "code",
   "execution_count": 3,
   "id": "8bc89fe3",
   "metadata": {},
   "outputs": [],
   "source": [
    "function sim_callback!(torques::AbstractVector{T}, t, state::MechanismState{T})  where T\n",
    "    # takes the Global Torque, Force and Joint Value\n",
    "    torques[velocity_range(state, joint)] = [torque_B; force_B]\n",
    "end;"
   ]
  },
  {
   "cell_type": "code",
   "execution_count": 4,
   "id": "09bd7203",
   "metadata": {},
   "outputs": [],
   "source": [
    "function init_integrator(mechanism_state)\n",
    "    T = Float64;\n",
    "    result = DynamicsResult{T}(mechanism_state.mechanism)\n",
    "    control_torques::AbstractVector{T} = [0.0; 0.0; 0.0; 0.0; 0.0; 0.0];\n",
    "\n",
    "\n",
    "    #a callable dynamics!(vd, t, state) that updates the joint acceleration vector vd at time t and in state state;\n",
    "    closed_loop_dynamics! = function (v̇::AbstractArray, ṡ::AbstractArray, t, state)\n",
    "                sim_callback!(control_torques, t, state)\n",
    "                dynamics!(result, state, control_torques)\n",
    "                copyto!(v̇, result.v̇)\n",
    "                copyto!(ṡ, result.ṡ) \n",
    "            end\n",
    "\n",
    "\n",
    "    tableau = runge_kutta_4(T) # Return the Butcher tableau for the standard fourth order Runge-Kutta integrator.\n",
    "    storage = RingBufferStorage{T}(mechanism_state, 1); # Ringbuffer with one place as OdeResultsSink\n",
    "    \n",
    "    integrator = MuntheKaasIntegrator(mechanism_state, closed_loop_dynamics!, tableau, storage);\n",
    "    \n",
    "    return integrator, storage\n",
    "end;"
   ]
  },
  {
   "cell_type": "code",
   "execution_count": 5,
   "id": "6e7579e0",
   "metadata": {},
   "outputs": [],
   "source": [
    "function rigid_body_simulation_step(integrator, t, Δt, storage)\n",
    "    step(integrator, t, Δt)\n",
    "\n",
    "    # Returns the position of the body\n",
    "    x_W = configuration(integrator.state)[7]\n",
    "    return x_W\n",
    "end;"
   ]
  },
  {
   "cell_type": "code",
   "execution_count": 6,
   "id": "cf623f8c",
   "metadata": {},
   "outputs": [],
   "source": [
    "function set_next_torque_force!(torque_B_::AbstractVector{T}, force_B_::AbstractVector{T}) where T\n",
    "    # Since the MuntheKaasIntegrator calls the dynamic update, the new force values must be passed globally.\n",
    "    global torque_B = torque_B_;\n",
    "    global force_B = force_B_;\n",
    "end;"
   ]
  },
  {
   "cell_type": "markdown",
   "id": "67548540",
   "metadata": {},
   "source": [
    "The function initialises the rigid body simulation and simulates 10 time steps for a free flying body. The loss is the deviation from the origin. x is the force acting on the cube against gravity."
   ]
  },
  {
   "cell_type": "code",
   "execution_count": 7,
   "id": "3e9cd65f",
   "metadata": {},
   "outputs": [],
   "source": [
    "function f(x)\n",
    "    t = 0.0;\n",
    "    Δt = 1e-2;\n",
    "    loss = 0.0;\n",
    "    \n",
    "    # The force acting on the body along the gravity can be varied by x.\n",
    "    force_B = [0.0; 0.0; x];\n",
    "    torque_B = [0.0; 0.0; 0.0];\n",
    "    \n",
    "\n",
    "    for i in 1:10\n",
    "        set_next_torque_force!(torque_B, force_B)\n",
    "        x_W = rigid_body_simulation_step(integrator, t, Δt, storage)\n",
    "        loss += norm(x_W)\n",
    "        t = Δt;\n",
    "    end\n",
    "    \n",
    "    # The loss is the sum of all positions deviating from the origin.\n",
    "    return loss\n",
    "end;"
   ]
  },
  {
   "cell_type": "code",
   "execution_count": 8,
   "id": "e5b036ff",
   "metadata": {},
   "outputs": [],
   "source": [
    "mechanism_state, joint = init_RigidBody();\n",
    "integrator, storage = init_integrator(mechanism_state);"
   ]
  },
  {
   "cell_type": "markdown",
   "id": "9f63d79d",
   "metadata": {},
   "source": [
    "Test whether the movement is 0 when a force equal to gravity acts in the opposite direction."
   ]
  },
  {
   "cell_type": "code",
   "execution_count": 9,
   "id": "1cd8144e",
   "metadata": {},
   "outputs": [
    {
     "data": {
      "text/plain": [
       "true"
      ]
     },
     "execution_count": 9,
     "metadata": {},
     "output_type": "execute_result"
    }
   ],
   "source": [
    "0.0 == f(9.81)"
   ]
  },
  {
   "cell_type": "code",
   "execution_count": 10,
   "id": "766d92e3",
   "metadata": {},
   "outputs": [
    {
     "ename": "LoadError",
     "evalue": "Mutating arrays is not supported -- called copyto!(::Vector{Float64}, _...)",
     "output_type": "error",
     "traceback": [
      "Mutating arrays is not supported -- called copyto!(::Vector{Float64}, _...)",
      "",
      "Stacktrace:",
      "  [1] error(s::String)",
      "    @ Base ./error.jl:33",
      "  [2] (::Zygote.var\"#445#446\"{Vector{Float64}})(#unused#::Nothing)",
      "    @ Zygote ~/.julia/packages/Zygote/Y6SC4/src/lib/array.jl:74",
      "  [3] (::Zygote.var\"#2347#back#447\"{Zygote.var\"#445#446\"{Vector{Float64}}})(Δ::Nothing)",
      "    @ Zygote ~/.julia/packages/ZygoteRules/AIbCs/src/adjoint.jl:67",
      "  [4] Pullback",
      "    @ ~/.julia/packages/RigidBodyDynamics/8B04X/src/mechanism_state.jl:441 [inlined]",
      "  [5] (::typeof(∂(set_additional_state!)))(Δ::Nothing)",
      "    @ Zygote ~/.julia/packages/Zygote/Y6SC4/src/compiler/interface2.jl:0",
      "  [6] Pullback",
      "    @ ~/.julia/packages/RigidBodyDynamics/8B04X/src/ode_integrators.jl:296 [inlined]",
      "  [7] (::typeof(∂(step)))(Δ::Nothing)",
      "    @ Zygote ~/.julia/packages/Zygote/Y6SC4/src/compiler/interface2.jl:0",
      "  [8] Pullback",
      "    @ ./In[5]:2 [inlined]",
      "  [9] (::typeof(∂(rigid_body_simulation_step)))(Δ::Float64)",
      "    @ Zygote ~/.julia/packages/Zygote/Y6SC4/src/compiler/interface2.jl:0",
      " [10] Pullback",
      "    @ ./In[7]:13 [inlined]",
      " [11] (::typeof(∂(f)))(Δ::Float64)",
      "    @ Zygote ~/.julia/packages/Zygote/Y6SC4/src/compiler/interface2.jl:0",
      " [12] (::Zygote.var\"#56#57\"{typeof(∂(f))})(Δ::Float64)",
      "    @ Zygote ~/.julia/packages/Zygote/Y6SC4/src/compiler/interface.jl:41",
      " [13] gradient(f::Function, args::Float64)",
      "    @ Zygote ~/.julia/packages/Zygote/Y6SC4/src/compiler/interface.jl:76",
      " [14] top-level scope",
      "    @ In[10]:2",
      " [15] eval",
      "    @ ./boot.jl:373 [inlined]",
      " [16] include_string(mapexpr::typeof(REPL.softscope), mod::Module, code::String, filename::String)",
      "    @ Base ./loading.jl:1196"
     ]
    }
   ],
   "source": [
    "x = 0.0\n",
    "gradient(f, x)"
   ]
  }
 ],
 "metadata": {
  "kernelspec": {
   "display_name": "Julia 1.7.2",
   "language": "julia",
   "name": "julia-1.7"
  },
  "language_info": {
   "file_extension": ".jl",
   "mimetype": "application/julia",
   "name": "julia",
   "version": "1.7.2"
  }
 },
 "nbformat": 4,
 "nbformat_minor": 5
}
